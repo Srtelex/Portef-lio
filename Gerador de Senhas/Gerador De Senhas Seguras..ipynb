{
  "cells": [
    {
      "cell_type": "code",
      "source": [
        "import string as st\n",
        "import secrets\n",
        "from google.colab import files\n",
        "\n",
        "def confirmar_criacao_arquivo():\n",
        "    resposta = input(\"Você permite a criação do arquivo de senhas? (s/n): \").strip().lower()\n",
        "    return resposta == 's'\n",
        "\n",
        "\n",
        "def obter_caminho_arquivo():\n",
        "    return \"senhas.txt\"\n",
        "\n",
        "\n",
        "letras = st.ascii_letters\n",
        "numeros = st.digits\n",
        "especial = st.punctuation\n",
        "algarismos = letras + numeros + especial\n",
        "\n",
        "quantidade_de_senhas = 200\n",
        "caminho_arquivo = obter_caminho_arquivo()\n",
        "\n",
        "if confirmar_criacao_arquivo():\n",
        "    with open(caminho_arquivo, \"w\") as arquivo:\n",
        "        for i in range(quantidade_de_senhas):\n",
        "            senha = ''.join(secrets.choice(algarismos) for _ in range(12))\n",
        "            arquivo.write(f\"Senha {i + 1}: {senha}\\n\")\n",
        "\n",
        "    print(f\"{quantidade_de_senhas} senhas geradas e salvas em '{caminho_arquivo}'.\")\n",
        "\n",
        "    files.download(caminho_arquivo)\n",
        "else:\n",
        "    print(\"A criação do arquivo foi cancelada pelo usuário.\")\n"
      ],
      "metadata": {
        "id": "AORDoNi53Uh2",
        "outputId": "636b6fa5-cefe-4103-bf95-dc71efc2f384",
        "colab": {
          "base_uri": "https://localhost:8080/",
          "height": 52
        }
      },
      "execution_count": 8,
      "outputs": [
        {
          "output_type": "stream",
          "name": "stdout",
          "text": [
            "Você permite a criação do arquivo de senhas? (s/n): s\n",
            "200 senhas geradas e salvas em 'senhas.txt'.\n"
          ]
        },
        {
          "output_type": "display_data",
          "data": {
            "text/plain": [
              "<IPython.core.display.Javascript object>"
            ],
            "application/javascript": [
              "\n",
              "    async function download(id, filename, size) {\n",
              "      if (!google.colab.kernel.accessAllowed) {\n",
              "        return;\n",
              "      }\n",
              "      const div = document.createElement('div');\n",
              "      const label = document.createElement('label');\n",
              "      label.textContent = `Downloading \"${filename}\": `;\n",
              "      div.appendChild(label);\n",
              "      const progress = document.createElement('progress');\n",
              "      progress.max = size;\n",
              "      div.appendChild(progress);\n",
              "      document.body.appendChild(div);\n",
              "\n",
              "      const buffers = [];\n",
              "      let downloaded = 0;\n",
              "\n",
              "      const channel = await google.colab.kernel.comms.open(id);\n",
              "      // Send a message to notify the kernel that we're ready.\n",
              "      channel.send({})\n",
              "\n",
              "      for await (const message of channel.messages) {\n",
              "        // Send a message to notify the kernel that we're ready.\n",
              "        channel.send({})\n",
              "        if (message.buffers) {\n",
              "          for (const buffer of message.buffers) {\n",
              "            buffers.push(buffer);\n",
              "            downloaded += buffer.byteLength;\n",
              "            progress.value = downloaded;\n",
              "          }\n",
              "        }\n",
              "      }\n",
              "      const blob = new Blob(buffers, {type: 'application/binary'});\n",
              "      const a = document.createElement('a');\n",
              "      a.href = window.URL.createObjectURL(blob);\n",
              "      a.download = filename;\n",
              "      div.appendChild(a);\n",
              "      a.click();\n",
              "      div.remove();\n",
              "    }\n",
              "  "
            ]
          },
          "metadata": {}
        },
        {
          "output_type": "display_data",
          "data": {
            "text/plain": [
              "<IPython.core.display.Javascript object>"
            ],
            "application/javascript": [
              "download(\"download_821b54f2-21c1-4a8e-befa-dd61c10b8382\", \"senhas.txt\", 4692)"
            ]
          },
          "metadata": {}
        }
      ]
    }
  ],
  "metadata": {
    "colab": {
      "name": "Damos-lhe as boas-vindas ao Colaboratory",
      "toc_visible": true,
      "provenance": []
    },
    "kernelspec": {
      "display_name": "Python 3",
      "name": "python3"
    }
  },
  "nbformat": 4,
  "nbformat_minor": 0
}